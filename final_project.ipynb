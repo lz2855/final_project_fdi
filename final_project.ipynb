{
  "nbformat": 4,
  "nbformat_minor": 0,
  "metadata": {
    "colab": {
      "provenance": [],
      "authorship_tag": "ABX9TyP9sep0HQCgNNqGyVHS57DV",
      "include_colab_link": true
    },
    "kernelspec": {
      "name": "python3",
      "display_name": "Python 3"
    },
    "language_info": {
      "name": "python"
    }
  },
  "cells": [
    {
      "cell_type": "markdown",
      "metadata": {
        "id": "view-in-github",
        "colab_type": "text"
      },
      "source": [
        "<a href=\"https://colab.research.google.com/github/lz2855/final_project_fdi/blob/main/final_project.ipynb\" target=\"_parent\"><img src=\"https://colab.research.google.com/assets/colab-badge.svg\" alt=\"Open In Colab\"/></a>"
      ]
    },
    {
      "cell_type": "markdown",
      "source": [
        "# Exploring the Relationship Between Internet Infrastructure and Foreign Direct Investment (FDI)"
      ],
      "metadata": {
        "id": "Xz9V68RFFXZb"
      }
    },
    {
      "cell_type": "markdown",
      "source": [
        "## Introduction\n",
        "\n",
        "Foreign Direct Investment (FDI) is an important driver of economic development, bringing in capital, technology, and expertise. In today’s digital economy, internet infrastructure may play a key role in attracting foreign investments. This analysis aims to examine the relationship between secure internet servers per million people and FDI as a percentage of GDP across different countries in 2022.\n",
        "\n",
        "## Hypothesis\n",
        "\n",
        "The hypothesis is that countries with a higher number of secure internet servers per million people receive more FDI as a percentage of GDP. The assumption is that better internet infrastructure enhances business operations, security, and digital transactions, making a country more attractive for foreign investors.\n",
        "\n",
        "## Data Sources\n",
        "I use two datasets from the World Bank:\n",
        "\n",
        "Foreign Direct Investment (FDI) as a % of GDP (1960–2023) - Contains yearly FDI inflows as a percentage of GDP.\n",
        "\n",
        "Source: [World Bank](https://data.worldbank.org/indicator/BX.KLT.DINV.WD.GD.ZS)\n",
        "\n",
        "Internet Infrastructure: Secure Internet Servers per 1M People (2010–2023) - Measures secure internet servers per million people.\n",
        "\n",
        "Source: [World Bank](https://databank.worldbank.org/reports.aspx?source=2&series=IT.NET.SECR.P6&country=#)\n",
        "\n",
        "For this study, I focus on data from 2022 and merge these datasets based on Country Code."
      ],
      "metadata": {
        "id": "FYdy8940Fb_K"
      }
    },
    {
      "cell_type": "markdown",
      "source": [
        "## Data Cleaning and Processing"
      ],
      "metadata": {
        "id": "uUrbH1M0GWZQ"
      }
    },
    {
      "cell_type": "markdown",
      "source": [
        "We start by loading the datasets and filtering only relevant columns."
      ],
      "metadata": {
        "id": "yx_6KkN8HHQx"
      }
    },
    {
      "cell_type": "code",
      "execution_count": null,
      "metadata": {
        "id": "dk-SB0QXAeQ-"
      },
      "outputs": [],
      "source": [
        "import pandas as pd\n",
        "\n",
        "# Load Foreign Direct Investment (FDI) dataset\n",
        "fdi_df = pd.read_csv(\"/content/fdi.csv\", skiprows=4)\n",
        "\n",
        "# Load Internet Infrastructure dataset\n",
        "internet_df = pd.read_csv(\"/content/internet.csv\")"
      ]
    },
    {
      "cell_type": "code",
      "source": [
        "# Select relevant columns\n",
        "fdi_df = fdi_df[['Country Name', 'Country Code', '2022']]\n",
        "fdi_df.rename(columns={'2022': 'FDI as % of GDP (2022)'}, inplace=True)\n",
        "\n",
        "internet_df = internet_df[['Country Name', 'Country Code', '2022 [YR2022]']]\n",
        "internet_df.rename(columns={'2022 [YR2022]': 'Secure Internet Servers per 1M people (2022)'}, inplace=True)\n",
        "internet_df['Secure Internet Servers per 1M people (2022)'] = pd.to_numeric(internet_df['Secure Internet Servers per 1M people (2022)'], errors='coerce')"
      ],
      "metadata": {
        "colab": {
          "base_uri": "https://localhost:8080/"
        },
        "id": "IDUO5iVMGqJB",
        "outputId": "6681a6da-7322-46fd-e84c-7025f4780c91"
      },
      "execution_count": null,
      "outputs": [
        {
          "output_type": "stream",
          "name": "stderr",
          "text": [
            "<ipython-input-7-9bf57a06f857>:3: SettingWithCopyWarning: \n",
            "A value is trying to be set on a copy of a slice from a DataFrame\n",
            "\n",
            "See the caveats in the documentation: https://pandas.pydata.org/pandas-docs/stable/user_guide/indexing.html#returning-a-view-versus-a-copy\n",
            "  fdi_df.rename(columns={'2022': 'FDI as % of GDP (2022)'}, inplace=True)\n",
            "<ipython-input-7-9bf57a06f857>:6: SettingWithCopyWarning: \n",
            "A value is trying to be set on a copy of a slice from a DataFrame\n",
            "\n",
            "See the caveats in the documentation: https://pandas.pydata.org/pandas-docs/stable/user_guide/indexing.html#returning-a-view-versus-a-copy\n",
            "  internet_df.rename(columns={'2022 [YR2022]': 'Secure Internet Servers per 1M people (2022)'}, inplace=True)\n",
            "<ipython-input-7-9bf57a06f857>:7: SettingWithCopyWarning: \n",
            "A value is trying to be set on a copy of a slice from a DataFrame.\n",
            "Try using .loc[row_indexer,col_indexer] = value instead\n",
            "\n",
            "See the caveats in the documentation: https://pandas.pydata.org/pandas-docs/stable/user_guide/indexing.html#returning-a-view-versus-a-copy\n",
            "  internet_df['Secure Internet Servers per 1M people (2022)'] = pd.to_numeric(internet_df['Secure Internet Servers per 1M people (2022)'], errors='coerce')\n"
          ]
        }
      ]
    },
    {
      "cell_type": "markdown",
      "source": [
        "## Merging Datasets\n",
        "Now that we have clean data, we merge them using Country Code and drop any missing values to ensure accurate analysis."
      ],
      "metadata": {
        "id": "m5FL-mBBHBBX"
      }
    },
    {
      "cell_type": "code",
      "source": [
        "# Merge datasets on 'Country Code'\n",
        "merged_df = pd.merge(fdi_df, internet_df, on='Country Code', how='inner')\n",
        "\n",
        "# Drop rows with missing values\n",
        "merged_df.dropna(inplace=True)"
      ],
      "metadata": {
        "id": "UMSJ1kxGG2-K"
      },
      "execution_count": null,
      "outputs": []
    },
    {
      "cell_type": "markdown",
      "source": [
        "## Explore the Data\n",
        "Let’s take a look at the first few rows of our merged dataset:"
      ],
      "metadata": {
        "id": "0_8bcHM-HMp6"
      }
    },
    {
      "cell_type": "code",
      "source": [
        "print(merged_df.head())"
      ],
      "metadata": {
        "colab": {
          "base_uri": "https://localhost:8080/"
        },
        "id": "nfuB36uvG90W",
        "outputId": "543f9904-ced2-4fe1-bc32-b25db17a7a6b"
      },
      "execution_count": null,
      "outputs": [
        {
          "output_type": "stream",
          "name": "stdout",
          "text": [
            "                Country Name_x Country Code  FDI as % of GDP (2022)  \\\n",
            "0                        Aruba          ABW                7.567072   \n",
            "1  Africa Eastern and Southern          AFE                1.695914   \n",
            "3   Africa Western and Central          AFW                1.204459   \n",
            "4                       Angola          AGO               -6.320564   \n",
            "5                      Albania          ALB                7.579342   \n",
            "\n",
            "                Country Name_y  Secure Internet Servers per 1M people (2022)  \n",
            "0                        Aruba                                   1621.470506  \n",
            "1  Africa Eastern and Southern                                   1332.877133  \n",
            "3   Africa Western and Central                                     36.735969  \n",
            "4                       Angola                                     36.537083  \n",
            "5                      Albania                                   1107.395392  \n"
          ]
        }
      ]
    },
    {
      "cell_type": "markdown",
      "source": [
        "## Data Visualization\n",
        "We visualize the relationship between Secure Internet Servers per 1M People and FDI as % of GDP using a scatter plot.\n",
        "To better understand country-specific patterns, we use Plotly to create an interactive scatter plot where users can hover over data points to see country names."
      ],
      "metadata": {
        "id": "F0F5icoJHRE6"
      }
    },
    {
      "cell_type": "code",
      "source": [
        "import plotly.express as px\n",
        "import pandas as pd\n",
        "\n",
        "# Filter data within a reasonable range for better visibility\n",
        "filtered_df = merged_df[(merged_df['FDI as % of GDP (2022)'] >= 0) &\n",
        "                        (merged_df['FDI as % of GDP (2022)'] <= 50) &\n",
        "                        (merged_df['Secure Internet Servers per 1M people (2022)'] <= 50000)]  # Adjust threshold\n",
        "\n",
        "# Create interactive scatter plot\n",
        "fig = px.scatter(filtered_df, x='Secure Internet Servers per 1M people (2022)',\n",
        "                 y='FDI as % of GDP (2022)',\n",
        "                 hover_name='Country Name_x',\n",
        "                 title='Relationship Between Internet Infrastructure and FDI',\n",
        "                 labels={\n",
        "                     'Secure Internet Servers per 1M people (2022)': 'Secure Internet Servers per 1M People (2022)',\n",
        "                     'FDI as % of GDP (2022)': 'FDI as % of GDP (2022)'\n",
        "                 })\n",
        "\n",
        "fig.show()"
      ],
      "metadata": {
        "colab": {
          "base_uri": "https://localhost:8080/",
          "height": 542
        },
        "id": "L0dv3jAUHa0c",
        "outputId": "cd9b0425-df6f-4bc9-d1d6-0abf030ed11f"
      },
      "execution_count": null,
      "outputs": [
        {
          "output_type": "display_data",
          "data": {
            "text/html": [
              "<html>\n",
              "<head><meta charset=\"utf-8\" /></head>\n",
              "<body>\n",
              "    <div>            <script src=\"https://cdnjs.cloudflare.com/ajax/libs/mathjax/2.7.5/MathJax.js?config=TeX-AMS-MML_SVG\"></script><script type=\"text/javascript\">if (window.MathJax && window.MathJax.Hub && window.MathJax.Hub.Config) {window.MathJax.Hub.Config({SVG: {font: \"STIX-Web\"}});}</script>                <script type=\"text/javascript\">window.PlotlyConfig = {MathJaxConfig: 'local'};</script>\n",
              "        <script charset=\"utf-8\" src=\"https://cdn.plot.ly/plotly-2.35.2.min.js\"></script>                <div id=\"f1fe625b-8b0a-4dc7-9ed1-bab5ef75ccb9\" class=\"plotly-graph-div\" style=\"height:525px; width:100%;\"></div>            <script type=\"text/javascript\">                                    window.PLOTLYENV=window.PLOTLYENV || {};                                    if (document.getElementById(\"f1fe625b-8b0a-4dc7-9ed1-bab5ef75ccb9\")) {                    Plotly.newPlot(                        \"f1fe625b-8b0a-4dc7-9ed1-bab5ef75ccb9\",                        [{\"hovertemplate\":\"\\u003cb\\u003e%{hovertext}\\u003c\\u002fb\\u003e\\u003cbr\\u003e\\u003cbr\\u003eSecure Internet Servers per 1M People (2022)=%{x}\\u003cbr\\u003eFDI as % of GDP (2022)=%{y}\\u003cextra\\u003e\\u003c\\u002fextra\\u003e\",\"hovertext\":[\"Aruba\",\"Africa Eastern and Southern\",\"Africa Western and Central\",\"Albania\",\"Arab World\",\"United Arab Emirates\",\"Argentina\",\"Armenia\",\"Antigua and Barbuda\",\"Australia\",\"Austria\",\"Burundi\",\"Belgium\",\"Benin\",\"Burkina Faso\",\"Bangladesh\",\"Bahrain\",\"Bahamas, The\",\"Bosnia and Herzegovina\",\"Belarus\",\"Bermuda\",\"Bolivia\",\"Brazil\",\"Barbados\",\"Bhutan\",\"Botswana\",\"Canada\",\"Central Europe and the Baltics\",\"Chile\",\"China\",\"Cote d'Ivoire\",\"Cameroon\",\"Congo, Dem. Rep.\",\"Congo, Rep.\",\"Colombia\",\"Comoros\",\"Cabo Verde\",\"Costa Rica\",\"Caribbean small states\",\"Curacao\",\"Djibouti\",\"Dominican Republic\",\"Algeria\",\"East Asia & Pacific (excluding high income)\",\"Early-demographic dividend\",\"East Asia & Pacific\",\"Europe & Central Asia (excluding high income)\",\"Europe & Central Asia\",\"Ecuador\",\"Egypt, Arab Rep.\",\"Spain\",\"Ethiopia\",\"Fragile and conflict affected situations\",\"Fiji\",\"France\",\"United Kingdom\",\"Georgia\",\"Ghana\",\"Guinea\",\"Gambia, The\",\"Guinea-Bissau\",\"Greece\",\"Grenada\",\"Guatemala\",\"Guyana\",\"Honduras\",\"Heavily indebted poor countries (HIPC)\",\"Croatia\",\"Haiti\",\"IBRD only\",\"IDA & IBRD total\",\"IDA total\",\"IDA blend\",\"Indonesia\",\"IDA only\",\"India\",\"Iran, Islamic Rep.\",\"Israel\",\"Italy\",\"Jamaica\",\"Jordan\",\"Japan\",\"Kazakhstan\",\"Kenya\",\"Kyrgyz Republic\",\"Cambodia\",\"Kiribati\",\"St. Kitts and Nevis\",\"Korea, Rep.\",\"Kuwait\",\"Latin America & Caribbean (excluding high income)\",\"Lao PDR\",\"Lebanon\",\"Liberia\",\"Libya\",\"St. Lucia\",\"Latin America & Caribbean\",\"Least developed countries: UN classification\",\"Low income\",\"Sri Lanka\",\"Lower middle income\",\"Low & middle income\",\"Late-demographic dividend\",\"Latvia\",\"Macao SAR, China\",\"Morocco\",\"Moldova\",\"Madagascar\",\"Maldives\",\"Middle East & North Africa\",\"Mexico\",\"Middle income\",\"North Macedonia\",\"Mali\",\"Middle East & North Africa (excluding high income)\",\"Montenegro\",\"Mongolia\",\"Mozambique\",\"Mauritania\",\"Mauritius\",\"Malawi\",\"Malaysia\",\"Namibia\",\"New Caledonia\",\"Niger\",\"Nicaragua\",\"Norway\",\"Nepal\",\"New Zealand\",\"Oman\",\"Other small states\",\"Pakistan\",\"Panama\",\"Peru\",\"Philippines\",\"Palau\",\"Papua New Guinea\",\"Poland\",\"Pre-demographic dividend\",\"Portugal\",\"Paraguay\",\"West Bank and Gaza\",\"Pacific island small states\",\"French Polynesia\",\"Qatar\",\"Romania\",\"Rwanda\",\"South Asia\",\"Saudi Arabia\",\"Sudan\",\"Senegal\",\"Solomon Islands\",\"Sierra Leone\",\"El Salvador\",\"Serbia\",\"Sub-Saharan Africa (excluding high income)\",\"Sub-Saharan Africa\",\"Small states\",\"Sao Tome and Principe\",\"Slovak Republic\",\"Sweden\",\"Eswatini\",\"Sint Maarten (Dutch part)\",\"East Asia & Pacific (IDA & IBRD countries)\",\"Europe & Central Asia (IDA & IBRD countries)\",\"Thailand\",\"Tajikistan\",\"Latin America & the Caribbean (IDA & IBRD countries)\",\"Middle East & North Africa (IDA & IBRD countries)\",\"Tonga\",\"South Asia (IDA & IBRD)\",\"Sub-Saharan Africa (IDA & IBRD countries)\",\"Tunisia\",\"Turkiye\",\"Tuvalu\",\"Tanzania\",\"Uganda\",\"Ukraine\",\"Upper middle income\",\"Uruguay\",\"Uzbekistan\",\"St. Vincent and the Grenadines\",\"Viet Nam\",\"Vanuatu\",\"World\",\"Samoa\",\"South Africa\",\"Zimbabwe\"],\"legendgroup\":\"\",\"marker\":{\"color\":\"#636efa\",\"symbol\":\"circle\"},\"mode\":\"markers\",\"name\":\"\",\"orientation\":\"v\",\"showlegend\":false,\"x\":[1621.47050601062,1332.87713276783,36.7359689487775,1107.39539235674,188.328441526339,1626.60420961755,5287.33940240888,862.185100363734,829.383886255924,48274.9572650131,39544.447259748,10.8099205343224,30850.8151822613,8.2125071250767,21.7246068001662,329.568934354283,5210.2292067977,5189.44100941294,4776.58214142403,10278.4211348179,5498.15441165114,275.975614784741,4685.09246377482,981.16308559851,1024.44059140955,369.688494408769,43649.799830792,43368.7105180736,11563.2682310819,1317.31265600935,65.8331919175396,15.1993442858119,5.95720763919494,11.7645031469217,669.643927095364,26.3729519005308,777.310237214305,1892.8462847062,47091.7338468244,5066.80178138084,55.4042930412208,183.336191561478,75.0702728338252,1660.44466644415,1396.51397127085,4751.99003945581,6102.46462637861,41148.7693248188,837.022341410523,48.1804680857676,27061.6127468159,9.00431806100233,387.30592723786,253.420083487234,47412.4923060694,44298.3581891401,4942.75827999554,49.1415285676086,7.61287492252833,49.6876505327199,5.22434029642907,13068.1749587664,718.482974519515,129.259070980823,87.6299387685803,128.441938127684,29.4080041459021,29826.9470627582,6.78048257216042,2918.98998200416,2168.37820291152,184.457517964228,366.604447021274,2496.40884911853,93.4028974289978,729.692060044831,6554.61538318904,13050.1700235417,28070.9043211973,182.449357975502,154.58060992356,28934.0684777203,4944.14440531382,280.15318973272,639.836495467992,183.469982427343,53.6525918034169,9398.6169688925,8821.91477648421,388.48337441496,2571.19748566532,273.977785706509,260.249432107886,8.18864554963864,174.008019319458,721.553185181871,2921.8987285579,80.7484245146477,19.4750542306188,486.542536405031,575.812791000842,1424.2793521398,4409.53272308014,22271.1389855075,6022.44204931345,545.607036919008,8416.33533097055,17.8071213438029,1158.16266175163,1610.79886210029,381.889508206228,1596.42281428362,1735.53484390559,14.6927269701257,1470.55098653365,1278.32693089744,2187.98816919588,33.4698605589877,25.2274728409847,1688.68210717745,23.8225718187338,8416.74162116676,315.607846177165,6899.48210348875,4.18774150873186,95.0873421810124,44150.8874541494,359.476468728239,18370.9841319472,284.341593826595,20005.3201223994,116.150687433285,2231.65339361971,701.589027752228,100.189236390773,1407.73692212399,83.6994859146212,34772.62853538,43.0545407366888,27622.7553426515,626.584210787899,517.882818900423,484.930812646905,2022.26993558696,512.543967955841,24738.0607671931,115.522418454871,594.435902710072,323.758429778142,9.45662936650749,44.5864487901974,83.2195998801638,11.357036596359,173.398835313939,11871.1989543322,803.435914769357,808.406337074904,21653.592113119,30.9317072092972,36900.6169648393,45805.4450768818,109.933654219278,1020.43237855668,1681.1409660311,14436.9962156576,2746.24794708894,100.371019213684,2785.29425227007,1481.79876577095,780.64012490242,594.435902710072,808.406337074904,739.562091448259,9166.00138199718,500.400320256205,43.9332405743921,43.8571285662107,8917.22299276914,2701.44230679851,4678.38602759788,733.565156714046,225.388550261647,4713.44214180776,2319.14798464123,14528.4756711232,566.753847654708,14989.9460406253,78.1004185933511],\"xaxis\":\"x\",\"y\":[7.56707186414171,1.69591362891245,1.2044594521187,7.57934219388197,2.23579534739652,4.93965436873328,2.402155349277,4.99991586140552,16.1547092931023,4.16149504206489,3.03143362679607,0.757355122631358,2.00105702528312,2.16063891256477,3.55861030023451,0.355308723531372,4.18019089747336,4.04154829632738,3.47041348895988,2.17745011943276,0.263172619245323,0.0141722868400141,3.8221961533297,0.239719872945271,0.289904655199301,3.49190816493543,2.31251652587337,4.18287942425485,6.03627962411555,1.06367352996528,2.27881458136523,2.08735032157122,2.14185515804377,0.157485885506815,4.97568342327735,0.332281930531755,5.43014451284015,5.30504327929944,3.5699410227632,5.71077944316966,5.09002871402003,3.56710752156703,0.106370751232434,1.31660873888442,1.99807328555636,2.34882837375791,1.8321226986924,0.963463672610437,0.755059961772552,2.39118080969079,4.52740675341745,2.89493814042439,0.869503874791194,2.0843448504953,3.91856445477022,1.44178892281254,9.15328575552963,1.92344065685952,3.30630355394451,10.4995860985808,1.20549376630065,3.63119902887991,12.7582389697431,1.5163284242494,2.99020514705306,2.41292398026651,2.86415398607829,5.51610421858619,0.194598953085393,1.5822408780961,1.58014349412405,1.55150218889616,0.617145087886896,1.87267638101123,2.29455990634459,1.48921120524648,0.0253573727513357,4.38689176804983,2.98280776340516,1.86419733640372,2.56620402018028,1.12781929281189,2.25169814661934,0.691645983068062,0.451992680624909,8.94830125779537,1.57662839682739,4.41453480561237,1.49617378306838,0.408967286300289,3.25452752294396,4.69509225789708,2.50966160641735,23.9985301015667,0.115616832891349,1.40729818348537,3.43789596350126,1.50387132860814,3.82755704243543,1.19246347205259,1.51335612449905,1.6068332991826,1.42369075114117,3.20205546190368,11.7281043073078,1.75205980018911,4.03859534264597,3.09123179157013,11.8538627115723,2.81886564139399,2.67089845651245,1.58008983101568,6.13067578989693,3.809679019826,0.88008568453732,14.0062013047765,14.6053065112102,16.0042947069706,14.6644208551054,0.285717274004848,1.59888613227793,3.68689336269238,8.40312508783681,0.592336611397022,6.25881415979847,8.26714699998342,2.42127009824237,0.160405404733411,3.3802437002905,6.21991338772931,13.9325980703102,0.389980753542853,3.92922448045916,4.54440029182456,2.3475097233369,28.1754765975043,3.77051759671847,6.00626096603428,0.65054153829554,3.71003929656135,1.60188029306692,1.62179695015304,2.51710314556315,0.100794866449377,0.0322850616411601,3.87290125410084,2.29121490634389,1.26893832802688,2.53074190231041,1.11000421594226,0.253824628077479,2.59958214293394,4.12930049684053,0.0320261812840187,6.90481580907468,1.48172653972089,1.48960708864771,11.7787890792675,23.436015111899,4.16384241518814,8.26690116179806,0.284327760848015,1.11128384508943,1.31693508271818,1.05355727557611,2.39179594101395,1.62432287476597,3.4882692921717,0.871601990716039,0.561880376085847,1.26893832802688,1.48960708864771,1.44283667390745,1.50652874838996,0.0,1.89728870685569,6.48067616265601,0.136428578229067,1.59730367990749,12.3672335202236,2.94941900878907,7.29137269929834,4.3624059864868,1.04625135146101,1.81632775980264,0.576323080112091,2.27046857469366,1.02703125875411],\"yaxis\":\"y\",\"type\":\"scatter\"}],                        {\"template\":{\"data\":{\"histogram2dcontour\":[{\"type\":\"histogram2dcontour\",\"colorbar\":{\"outlinewidth\":0,\"ticks\":\"\"},\"colorscale\":[[0.0,\"#0d0887\"],[0.1111111111111111,\"#46039f\"],[0.2222222222222222,\"#7201a8\"],[0.3333333333333333,\"#9c179e\"],[0.4444444444444444,\"#bd3786\"],[0.5555555555555556,\"#d8576b\"],[0.6666666666666666,\"#ed7953\"],[0.7777777777777778,\"#fb9f3a\"],[0.8888888888888888,\"#fdca26\"],[1.0,\"#f0f921\"]]}],\"choropleth\":[{\"type\":\"choropleth\",\"colorbar\":{\"outlinewidth\":0,\"ticks\":\"\"}}],\"histogram2d\":[{\"type\":\"histogram2d\",\"colorbar\":{\"outlinewidth\":0,\"ticks\":\"\"},\"colorscale\":[[0.0,\"#0d0887\"],[0.1111111111111111,\"#46039f\"],[0.2222222222222222,\"#7201a8\"],[0.3333333333333333,\"#9c179e\"],[0.4444444444444444,\"#bd3786\"],[0.5555555555555556,\"#d8576b\"],[0.6666666666666666,\"#ed7953\"],[0.7777777777777778,\"#fb9f3a\"],[0.8888888888888888,\"#fdca26\"],[1.0,\"#f0f921\"]]}],\"heatmap\":[{\"type\":\"heatmap\",\"colorbar\":{\"outlinewidth\":0,\"ticks\":\"\"},\"colorscale\":[[0.0,\"#0d0887\"],[0.1111111111111111,\"#46039f\"],[0.2222222222222222,\"#7201a8\"],[0.3333333333333333,\"#9c179e\"],[0.4444444444444444,\"#bd3786\"],[0.5555555555555556,\"#d8576b\"],[0.6666666666666666,\"#ed7953\"],[0.7777777777777778,\"#fb9f3a\"],[0.8888888888888888,\"#fdca26\"],[1.0,\"#f0f921\"]]}],\"heatmapgl\":[{\"type\":\"heatmapgl\",\"colorbar\":{\"outlinewidth\":0,\"ticks\":\"\"},\"colorscale\":[[0.0,\"#0d0887\"],[0.1111111111111111,\"#46039f\"],[0.2222222222222222,\"#7201a8\"],[0.3333333333333333,\"#9c179e\"],[0.4444444444444444,\"#bd3786\"],[0.5555555555555556,\"#d8576b\"],[0.6666666666666666,\"#ed7953\"],[0.7777777777777778,\"#fb9f3a\"],[0.8888888888888888,\"#fdca26\"],[1.0,\"#f0f921\"]]}],\"contourcarpet\":[{\"type\":\"contourcarpet\",\"colorbar\":{\"outlinewidth\":0,\"ticks\":\"\"}}],\"contour\":[{\"type\":\"contour\",\"colorbar\":{\"outlinewidth\":0,\"ticks\":\"\"},\"colorscale\":[[0.0,\"#0d0887\"],[0.1111111111111111,\"#46039f\"],[0.2222222222222222,\"#7201a8\"],[0.3333333333333333,\"#9c179e\"],[0.4444444444444444,\"#bd3786\"],[0.5555555555555556,\"#d8576b\"],[0.6666666666666666,\"#ed7953\"],[0.7777777777777778,\"#fb9f3a\"],[0.8888888888888888,\"#fdca26\"],[1.0,\"#f0f921\"]]}],\"surface\":[{\"type\":\"surface\",\"colorbar\":{\"outlinewidth\":0,\"ticks\":\"\"},\"colorscale\":[[0.0,\"#0d0887\"],[0.1111111111111111,\"#46039f\"],[0.2222222222222222,\"#7201a8\"],[0.3333333333333333,\"#9c179e\"],[0.4444444444444444,\"#bd3786\"],[0.5555555555555556,\"#d8576b\"],[0.6666666666666666,\"#ed7953\"],[0.7777777777777778,\"#fb9f3a\"],[0.8888888888888888,\"#fdca26\"],[1.0,\"#f0f921\"]]}],\"mesh3d\":[{\"type\":\"mesh3d\",\"colorbar\":{\"outlinewidth\":0,\"ticks\":\"\"}}],\"scatter\":[{\"fillpattern\":{\"fillmode\":\"overlay\",\"size\":10,\"solidity\":0.2},\"type\":\"scatter\"}],\"parcoords\":[{\"type\":\"parcoords\",\"line\":{\"colorbar\":{\"outlinewidth\":0,\"ticks\":\"\"}}}],\"scatterpolargl\":[{\"type\":\"scatterpolargl\",\"marker\":{\"colorbar\":{\"outlinewidth\":0,\"ticks\":\"\"}}}],\"bar\":[{\"error_x\":{\"color\":\"#2a3f5f\"},\"error_y\":{\"color\":\"#2a3f5f\"},\"marker\":{\"line\":{\"color\":\"#E5ECF6\",\"width\":0.5},\"pattern\":{\"fillmode\":\"overlay\",\"size\":10,\"solidity\":0.2}},\"type\":\"bar\"}],\"scattergeo\":[{\"type\":\"scattergeo\",\"marker\":{\"colorbar\":{\"outlinewidth\":0,\"ticks\":\"\"}}}],\"scatterpolar\":[{\"type\":\"scatterpolar\",\"marker\":{\"colorbar\":{\"outlinewidth\":0,\"ticks\":\"\"}}}],\"histogram\":[{\"marker\":{\"pattern\":{\"fillmode\":\"overlay\",\"size\":10,\"solidity\":0.2}},\"type\":\"histogram\"}],\"scattergl\":[{\"type\":\"scattergl\",\"marker\":{\"colorbar\":{\"outlinewidth\":0,\"ticks\":\"\"}}}],\"scatter3d\":[{\"type\":\"scatter3d\",\"line\":{\"colorbar\":{\"outlinewidth\":0,\"ticks\":\"\"}},\"marker\":{\"colorbar\":{\"outlinewidth\":0,\"ticks\":\"\"}}}],\"scattermapbox\":[{\"type\":\"scattermapbox\",\"marker\":{\"colorbar\":{\"outlinewidth\":0,\"ticks\":\"\"}}}],\"scatterternary\":[{\"type\":\"scatterternary\",\"marker\":{\"colorbar\":{\"outlinewidth\":0,\"ticks\":\"\"}}}],\"scattercarpet\":[{\"type\":\"scattercarpet\",\"marker\":{\"colorbar\":{\"outlinewidth\":0,\"ticks\":\"\"}}}],\"carpet\":[{\"aaxis\":{\"endlinecolor\":\"#2a3f5f\",\"gridcolor\":\"white\",\"linecolor\":\"white\",\"minorgridcolor\":\"white\",\"startlinecolor\":\"#2a3f5f\"},\"baxis\":{\"endlinecolor\":\"#2a3f5f\",\"gridcolor\":\"white\",\"linecolor\":\"white\",\"minorgridcolor\":\"white\",\"startlinecolor\":\"#2a3f5f\"},\"type\":\"carpet\"}],\"table\":[{\"cells\":{\"fill\":{\"color\":\"#EBF0F8\"},\"line\":{\"color\":\"white\"}},\"header\":{\"fill\":{\"color\":\"#C8D4E3\"},\"line\":{\"color\":\"white\"}},\"type\":\"table\"}],\"barpolar\":[{\"marker\":{\"line\":{\"color\":\"#E5ECF6\",\"width\":0.5},\"pattern\":{\"fillmode\":\"overlay\",\"size\":10,\"solidity\":0.2}},\"type\":\"barpolar\"}],\"pie\":[{\"automargin\":true,\"type\":\"pie\"}]},\"layout\":{\"autotypenumbers\":\"strict\",\"colorway\":[\"#636efa\",\"#EF553B\",\"#00cc96\",\"#ab63fa\",\"#FFA15A\",\"#19d3f3\",\"#FF6692\",\"#B6E880\",\"#FF97FF\",\"#FECB52\"],\"font\":{\"color\":\"#2a3f5f\"},\"hovermode\":\"closest\",\"hoverlabel\":{\"align\":\"left\"},\"paper_bgcolor\":\"white\",\"plot_bgcolor\":\"#E5ECF6\",\"polar\":{\"bgcolor\":\"#E5ECF6\",\"angularaxis\":{\"gridcolor\":\"white\",\"linecolor\":\"white\",\"ticks\":\"\"},\"radialaxis\":{\"gridcolor\":\"white\",\"linecolor\":\"white\",\"ticks\":\"\"}},\"ternary\":{\"bgcolor\":\"#E5ECF6\",\"aaxis\":{\"gridcolor\":\"white\",\"linecolor\":\"white\",\"ticks\":\"\"},\"baxis\":{\"gridcolor\":\"white\",\"linecolor\":\"white\",\"ticks\":\"\"},\"caxis\":{\"gridcolor\":\"white\",\"linecolor\":\"white\",\"ticks\":\"\"}},\"coloraxis\":{\"colorbar\":{\"outlinewidth\":0,\"ticks\":\"\"}},\"colorscale\":{\"sequential\":[[0.0,\"#0d0887\"],[0.1111111111111111,\"#46039f\"],[0.2222222222222222,\"#7201a8\"],[0.3333333333333333,\"#9c179e\"],[0.4444444444444444,\"#bd3786\"],[0.5555555555555556,\"#d8576b\"],[0.6666666666666666,\"#ed7953\"],[0.7777777777777778,\"#fb9f3a\"],[0.8888888888888888,\"#fdca26\"],[1.0,\"#f0f921\"]],\"sequentialminus\":[[0.0,\"#0d0887\"],[0.1111111111111111,\"#46039f\"],[0.2222222222222222,\"#7201a8\"],[0.3333333333333333,\"#9c179e\"],[0.4444444444444444,\"#bd3786\"],[0.5555555555555556,\"#d8576b\"],[0.6666666666666666,\"#ed7953\"],[0.7777777777777778,\"#fb9f3a\"],[0.8888888888888888,\"#fdca26\"],[1.0,\"#f0f921\"]],\"diverging\":[[0,\"#8e0152\"],[0.1,\"#c51b7d\"],[0.2,\"#de77ae\"],[0.3,\"#f1b6da\"],[0.4,\"#fde0ef\"],[0.5,\"#f7f7f7\"],[0.6,\"#e6f5d0\"],[0.7,\"#b8e186\"],[0.8,\"#7fbc41\"],[0.9,\"#4d9221\"],[1,\"#276419\"]]},\"xaxis\":{\"gridcolor\":\"white\",\"linecolor\":\"white\",\"ticks\":\"\",\"title\":{\"standoff\":15},\"zerolinecolor\":\"white\",\"automargin\":true,\"zerolinewidth\":2},\"yaxis\":{\"gridcolor\":\"white\",\"linecolor\":\"white\",\"ticks\":\"\",\"title\":{\"standoff\":15},\"zerolinecolor\":\"white\",\"automargin\":true,\"zerolinewidth\":2},\"scene\":{\"xaxis\":{\"backgroundcolor\":\"#E5ECF6\",\"gridcolor\":\"white\",\"linecolor\":\"white\",\"showbackground\":true,\"ticks\":\"\",\"zerolinecolor\":\"white\",\"gridwidth\":2},\"yaxis\":{\"backgroundcolor\":\"#E5ECF6\",\"gridcolor\":\"white\",\"linecolor\":\"white\",\"showbackground\":true,\"ticks\":\"\",\"zerolinecolor\":\"white\",\"gridwidth\":2},\"zaxis\":{\"backgroundcolor\":\"#E5ECF6\",\"gridcolor\":\"white\",\"linecolor\":\"white\",\"showbackground\":true,\"ticks\":\"\",\"zerolinecolor\":\"white\",\"gridwidth\":2}},\"shapedefaults\":{\"line\":{\"color\":\"#2a3f5f\"}},\"annotationdefaults\":{\"arrowcolor\":\"#2a3f5f\",\"arrowhead\":0,\"arrowwidth\":1},\"geo\":{\"bgcolor\":\"white\",\"landcolor\":\"#E5ECF6\",\"subunitcolor\":\"white\",\"showland\":true,\"showlakes\":true,\"lakecolor\":\"white\"},\"title\":{\"x\":0.05},\"mapbox\":{\"style\":\"light\"}}},\"xaxis\":{\"anchor\":\"y\",\"domain\":[0.0,1.0],\"title\":{\"text\":\"Secure Internet Servers per 1M People (2022)\"}},\"yaxis\":{\"anchor\":\"x\",\"domain\":[0.0,1.0],\"title\":{\"text\":\"FDI as % of GDP (2022)\"}},\"legend\":{\"tracegroupgap\":0},\"title\":{\"text\":\"Relationship Between Internet Infrastructure and FDI\"}},                        {\"responsive\": true}                    ).then(function(){\n",
              "                            \n",
              "var gd = document.getElementById('f1fe625b-8b0a-4dc7-9ed1-bab5ef75ccb9');\n",
              "var x = new MutationObserver(function (mutations, observer) {{\n",
              "        var display = window.getComputedStyle(gd).display;\n",
              "        if (!display || display === 'none') {{\n",
              "            console.log([gd, 'removed!']);\n",
              "            Plotly.purge(gd);\n",
              "            observer.disconnect();\n",
              "        }}\n",
              "}});\n",
              "\n",
              "// Listen for the removal of the full notebook cells\n",
              "var notebookContainer = gd.closest('#notebook-container');\n",
              "if (notebookContainer) {{\n",
              "    x.observe(notebookContainer, {childList: true});\n",
              "}}\n",
              "\n",
              "// Listen for the clearing of the current output cell\n",
              "var outputEl = gd.closest('.output');\n",
              "if (outputEl) {{\n",
              "    x.observe(outputEl, {childList: true});\n",
              "}}\n",
              "\n",
              "                        })                };                            </script>        </div>\n",
              "</body>\n",
              "</html>"
            ]
          },
          "metadata": {}
        }
      ]
    },
    {
      "cell_type": "markdown",
      "source": [
        "## Observations\n",
        "At first glance, the scatter plot does **not** indicate a strong correlation.\n",
        "\n",
        "Most data points cluster near the lower end of the x-axis (low-to-moderate internet infrastructure) with a wide spread of FDI values.\n",
        "No clear upward or downward trend – meaning more internet servers do not necessarily attract higher FDI.\n",
        "A few high-FDI outliers exist at low internet server counts, further weakening any potential correlation.\n",
        "\n",
        "To quantify this, we can do some **correlation and regression analysis**.\n"
      ],
      "metadata": {
        "id": "WnZh4SZDG2mo"
      }
    },
    {
      "cell_type": "code",
      "source": [
        "import scipy.stats as stats\n",
        "\n",
        "# Compute Pearson correlation\n",
        "correlation, p_value = stats.pearsonr(filtered_df['Secure Internet Servers per 1M people (2022)'],\n",
        "                                     filtered_df['FDI as % of GDP (2022)'])\n",
        "\n",
        "print(f\"Pearson correlation coefficient: {correlation:.4f}\")\n",
        "print(f\"P-value: {p_value:.4f}\")"
      ],
      "metadata": {
        "colab": {
          "base_uri": "https://localhost:8080/"
        },
        "id": "jcUhy99XKvfO",
        "outputId": "a3ac039d-735c-4df1-888e-f2d2bcb81ec1"
      },
      "execution_count": null,
      "outputs": [
        {
          "output_type": "stream",
          "name": "stdout",
          "text": [
            "Pearson correlation coefficient: 0.0296\n",
            "P-value: 0.6872\n"
          ]
        }
      ]
    },
    {
      "cell_type": "markdown",
      "source": [
        "The correlation coefficient is near 0, meaning that there is no significant relationships. And the p-value is < 0.05, meaning that this finding is statistically significant."
      ],
      "metadata": {
        "id": "csbJNjh4GpXX"
      }
    },
    {
      "cell_type": "markdown",
      "source": [
        "## Expanding the Analysis: Regional Perspectives\n",
        "\n",
        "While the initial analysis found no significant correlation between internet infrastructure and FDI across all countries, it's possible that this relationship varies by region or income level.\n",
        "\n",
        "By hovering onto the data points on the previous scatter plot, it is especially obvious that countries that show no effects of higher FDI even with better internet infrastructure, are countries such as Belgium, Canada, New Zealand, etc. They happen to be developed countries. What about developing countries?\n",
        "\n",
        "By segmenting the data, we can uncover nuanced patterns that may be obscured in a global analysis.​ I am choosing Latin American countreis as a case study.\n",
        "\n"
      ],
      "metadata": {
        "id": "wwJoIFDtMtby"
      }
    },
    {
      "cell_type": "markdown",
      "source": [
        "## Filtering dataset"
      ],
      "metadata": {
        "id": "SkJqvq98UCIN"
      }
    },
    {
      "cell_type": "code",
      "source": [
        "# Filter dataset for only Latin American and Caribbean countries\n",
        "latin_america_countries = [\n",
        "    \"ARG\", \"BOL\", \"BRA\", \"CHL\", \"COL\", \"CRI\", \"CUB\", \"DOM\", \"ECU\", \"SLV\",\n",
        "    \"GTM\", \"HND\", \"JAM\", \"MEX\", \"NIC\", \"PAN\", \"PRY\", \"PER\", \"URY\", \"VEN\"\n",
        "]\n",
        "\n",
        "latin_america_df = merged_df[merged_df[\"Country Code\"].isin(latin_america_countries)]"
      ],
      "metadata": {
        "id": "Szjcil8iLPc-"
      },
      "execution_count": null,
      "outputs": []
    },
    {
      "cell_type": "markdown",
      "source": [
        "## Data visialization"
      ],
      "metadata": {
        "id": "0kDHxZerT_VB"
      }
    },
    {
      "source": [
        "import statsmodels.api as sm\n",
        "# Create interactive scatter plot\n",
        "fig = px.scatter(\n",
        "    latin_america_df,\n",
        "    x='Secure Internet Servers per 1M people (2022)',\n",
        "    y='FDI as % of GDP (2022)',\n",
        "    hover_name='Country Name_x', # Changed hover_name to 'Country Name_x'\n",
        "    title='Interactive Relationship Between Internet Infrastructure and FDI in Latin America',\n",
        "    labels={\n",
        "        'Secure Internet Servers per 1M people (2022)': 'Secure Internet Servers per 1M People (2022)',\n",
        "        'FDI as % of GDP (2022)': 'FDI as % of GDP (2022)'\n",
        "    }\n",
        ")\n",
        "\n",
        "fig.show()"
      ],
      "cell_type": "code",
      "metadata": {
        "colab": {
          "base_uri": "https://localhost:8080/",
          "height": 542
        },
        "id": "SFg03t57PaWq",
        "outputId": "6efb8e78-cd03-400b-ffd0-418c95e963a7"
      },
      "execution_count": null,
      "outputs": [
        {
          "output_type": "display_data",
          "data": {
            "text/html": [
              "<html>\n",
              "<head><meta charset=\"utf-8\" /></head>\n",
              "<body>\n",
              "    <div>            <script src=\"https://cdnjs.cloudflare.com/ajax/libs/mathjax/2.7.5/MathJax.js?config=TeX-AMS-MML_SVG\"></script><script type=\"text/javascript\">if (window.MathJax && window.MathJax.Hub && window.MathJax.Hub.Config) {window.MathJax.Hub.Config({SVG: {font: \"STIX-Web\"}});}</script>                <script type=\"text/javascript\">window.PlotlyConfig = {MathJaxConfig: 'local'};</script>\n",
              "        <script charset=\"utf-8\" src=\"https://cdn.plot.ly/plotly-2.35.2.min.js\"></script>                <div id=\"84f4746d-6198-4f8d-886e-51a4e7788844\" class=\"plotly-graph-div\" style=\"height:525px; width:100%;\"></div>            <script type=\"text/javascript\">                                    window.PLOTLYENV=window.PLOTLYENV || {};                                    if (document.getElementById(\"84f4746d-6198-4f8d-886e-51a4e7788844\")) {                    Plotly.newPlot(                        \"84f4746d-6198-4f8d-886e-51a4e7788844\",                        [{\"hovertemplate\":\"\\u003cb\\u003e%{hovertext}\\u003c\\u002fb\\u003e\\u003cbr\\u003e\\u003cbr\\u003eSecure Internet Servers per 1M People (2022)=%{x}\\u003cbr\\u003eFDI as % of GDP (2022)=%{y}\\u003cextra\\u003e\\u003c\\u002fextra\\u003e\",\"hovertext\":[\"Argentina\",\"Bolivia\",\"Brazil\",\"Chile\",\"Colombia\",\"Costa Rica\",\"Dominican Republic\",\"Ecuador\",\"Guatemala\",\"Honduras\",\"Jamaica\",\"Mexico\",\"Nicaragua\",\"Panama\",\"Peru\",\"Paraguay\",\"El Salvador\",\"Uruguay\"],\"legendgroup\":\"\",\"marker\":{\"color\":\"#636efa\",\"symbol\":\"circle\"},\"mode\":\"markers\",\"name\":\"\",\"orientation\":\"v\",\"showlegend\":false,\"x\":[5287.33940240888,275.975614784741,4685.09246377482,11563.2682310819,669.643927095364,1892.8462847062,183.336191561478,837.022341410523,129.259070980823,128.441938127684,182.449357975502,381.889508206228,95.0873421810124,2231.65339361971,701.589027752228,626.584210787899,173.398835313939,4678.38602759788],\"xaxis\":\"x\",\"y\":[2.402155349277,0.0141722868400141,3.8221961533297,6.03627962411555,4.97568342327735,5.30504327929944,3.56710752156703,0.755059961772552,1.5163284242494,2.41292398026651,1.86419733640372,2.67089845651245,8.26714699998342,3.92922448045916,4.54440029182456,1.60188029306692,0.0320261812840187,12.3672335202236],\"yaxis\":\"y\",\"type\":\"scatter\"}],                        {\"template\":{\"data\":{\"histogram2dcontour\":[{\"type\":\"histogram2dcontour\",\"colorbar\":{\"outlinewidth\":0,\"ticks\":\"\"},\"colorscale\":[[0.0,\"#0d0887\"],[0.1111111111111111,\"#46039f\"],[0.2222222222222222,\"#7201a8\"],[0.3333333333333333,\"#9c179e\"],[0.4444444444444444,\"#bd3786\"],[0.5555555555555556,\"#d8576b\"],[0.6666666666666666,\"#ed7953\"],[0.7777777777777778,\"#fb9f3a\"],[0.8888888888888888,\"#fdca26\"],[1.0,\"#f0f921\"]]}],\"choropleth\":[{\"type\":\"choropleth\",\"colorbar\":{\"outlinewidth\":0,\"ticks\":\"\"}}],\"histogram2d\":[{\"type\":\"histogram2d\",\"colorbar\":{\"outlinewidth\":0,\"ticks\":\"\"},\"colorscale\":[[0.0,\"#0d0887\"],[0.1111111111111111,\"#46039f\"],[0.2222222222222222,\"#7201a8\"],[0.3333333333333333,\"#9c179e\"],[0.4444444444444444,\"#bd3786\"],[0.5555555555555556,\"#d8576b\"],[0.6666666666666666,\"#ed7953\"],[0.7777777777777778,\"#fb9f3a\"],[0.8888888888888888,\"#fdca26\"],[1.0,\"#f0f921\"]]}],\"heatmap\":[{\"type\":\"heatmap\",\"colorbar\":{\"outlinewidth\":0,\"ticks\":\"\"},\"colorscale\":[[0.0,\"#0d0887\"],[0.1111111111111111,\"#46039f\"],[0.2222222222222222,\"#7201a8\"],[0.3333333333333333,\"#9c179e\"],[0.4444444444444444,\"#bd3786\"],[0.5555555555555556,\"#d8576b\"],[0.6666666666666666,\"#ed7953\"],[0.7777777777777778,\"#fb9f3a\"],[0.8888888888888888,\"#fdca26\"],[1.0,\"#f0f921\"]]}],\"heatmapgl\":[{\"type\":\"heatmapgl\",\"colorbar\":{\"outlinewidth\":0,\"ticks\":\"\"},\"colorscale\":[[0.0,\"#0d0887\"],[0.1111111111111111,\"#46039f\"],[0.2222222222222222,\"#7201a8\"],[0.3333333333333333,\"#9c179e\"],[0.4444444444444444,\"#bd3786\"],[0.5555555555555556,\"#d8576b\"],[0.6666666666666666,\"#ed7953\"],[0.7777777777777778,\"#fb9f3a\"],[0.8888888888888888,\"#fdca26\"],[1.0,\"#f0f921\"]]}],\"contourcarpet\":[{\"type\":\"contourcarpet\",\"colorbar\":{\"outlinewidth\":0,\"ticks\":\"\"}}],\"contour\":[{\"type\":\"contour\",\"colorbar\":{\"outlinewidth\":0,\"ticks\":\"\"},\"colorscale\":[[0.0,\"#0d0887\"],[0.1111111111111111,\"#46039f\"],[0.2222222222222222,\"#7201a8\"],[0.3333333333333333,\"#9c179e\"],[0.4444444444444444,\"#bd3786\"],[0.5555555555555556,\"#d8576b\"],[0.6666666666666666,\"#ed7953\"],[0.7777777777777778,\"#fb9f3a\"],[0.8888888888888888,\"#fdca26\"],[1.0,\"#f0f921\"]]}],\"surface\":[{\"type\":\"surface\",\"colorbar\":{\"outlinewidth\":0,\"ticks\":\"\"},\"colorscale\":[[0.0,\"#0d0887\"],[0.1111111111111111,\"#46039f\"],[0.2222222222222222,\"#7201a8\"],[0.3333333333333333,\"#9c179e\"],[0.4444444444444444,\"#bd3786\"],[0.5555555555555556,\"#d8576b\"],[0.6666666666666666,\"#ed7953\"],[0.7777777777777778,\"#fb9f3a\"],[0.8888888888888888,\"#fdca26\"],[1.0,\"#f0f921\"]]}],\"mesh3d\":[{\"type\":\"mesh3d\",\"colorbar\":{\"outlinewidth\":0,\"ticks\":\"\"}}],\"scatter\":[{\"fillpattern\":{\"fillmode\":\"overlay\",\"size\":10,\"solidity\":0.2},\"type\":\"scatter\"}],\"parcoords\":[{\"type\":\"parcoords\",\"line\":{\"colorbar\":{\"outlinewidth\":0,\"ticks\":\"\"}}}],\"scatterpolargl\":[{\"type\":\"scatterpolargl\",\"marker\":{\"colorbar\":{\"outlinewidth\":0,\"ticks\":\"\"}}}],\"bar\":[{\"error_x\":{\"color\":\"#2a3f5f\"},\"error_y\":{\"color\":\"#2a3f5f\"},\"marker\":{\"line\":{\"color\":\"#E5ECF6\",\"width\":0.5},\"pattern\":{\"fillmode\":\"overlay\",\"size\":10,\"solidity\":0.2}},\"type\":\"bar\"}],\"scattergeo\":[{\"type\":\"scattergeo\",\"marker\":{\"colorbar\":{\"outlinewidth\":0,\"ticks\":\"\"}}}],\"scatterpolar\":[{\"type\":\"scatterpolar\",\"marker\":{\"colorbar\":{\"outlinewidth\":0,\"ticks\":\"\"}}}],\"histogram\":[{\"marker\":{\"pattern\":{\"fillmode\":\"overlay\",\"size\":10,\"solidity\":0.2}},\"type\":\"histogram\"}],\"scattergl\":[{\"type\":\"scattergl\",\"marker\":{\"colorbar\":{\"outlinewidth\":0,\"ticks\":\"\"}}}],\"scatter3d\":[{\"type\":\"scatter3d\",\"line\":{\"colorbar\":{\"outlinewidth\":0,\"ticks\":\"\"}},\"marker\":{\"colorbar\":{\"outlinewidth\":0,\"ticks\":\"\"}}}],\"scattermapbox\":[{\"type\":\"scattermapbox\",\"marker\":{\"colorbar\":{\"outlinewidth\":0,\"ticks\":\"\"}}}],\"scatterternary\":[{\"type\":\"scatterternary\",\"marker\":{\"colorbar\":{\"outlinewidth\":0,\"ticks\":\"\"}}}],\"scattercarpet\":[{\"type\":\"scattercarpet\",\"marker\":{\"colorbar\":{\"outlinewidth\":0,\"ticks\":\"\"}}}],\"carpet\":[{\"aaxis\":{\"endlinecolor\":\"#2a3f5f\",\"gridcolor\":\"white\",\"linecolor\":\"white\",\"minorgridcolor\":\"white\",\"startlinecolor\":\"#2a3f5f\"},\"baxis\":{\"endlinecolor\":\"#2a3f5f\",\"gridcolor\":\"white\",\"linecolor\":\"white\",\"minorgridcolor\":\"white\",\"startlinecolor\":\"#2a3f5f\"},\"type\":\"carpet\"}],\"table\":[{\"cells\":{\"fill\":{\"color\":\"#EBF0F8\"},\"line\":{\"color\":\"white\"}},\"header\":{\"fill\":{\"color\":\"#C8D4E3\"},\"line\":{\"color\":\"white\"}},\"type\":\"table\"}],\"barpolar\":[{\"marker\":{\"line\":{\"color\":\"#E5ECF6\",\"width\":0.5},\"pattern\":{\"fillmode\":\"overlay\",\"size\":10,\"solidity\":0.2}},\"type\":\"barpolar\"}],\"pie\":[{\"automargin\":true,\"type\":\"pie\"}]},\"layout\":{\"autotypenumbers\":\"strict\",\"colorway\":[\"#636efa\",\"#EF553B\",\"#00cc96\",\"#ab63fa\",\"#FFA15A\",\"#19d3f3\",\"#FF6692\",\"#B6E880\",\"#FF97FF\",\"#FECB52\"],\"font\":{\"color\":\"#2a3f5f\"},\"hovermode\":\"closest\",\"hoverlabel\":{\"align\":\"left\"},\"paper_bgcolor\":\"white\",\"plot_bgcolor\":\"#E5ECF6\",\"polar\":{\"bgcolor\":\"#E5ECF6\",\"angularaxis\":{\"gridcolor\":\"white\",\"linecolor\":\"white\",\"ticks\":\"\"},\"radialaxis\":{\"gridcolor\":\"white\",\"linecolor\":\"white\",\"ticks\":\"\"}},\"ternary\":{\"bgcolor\":\"#E5ECF6\",\"aaxis\":{\"gridcolor\":\"white\",\"linecolor\":\"white\",\"ticks\":\"\"},\"baxis\":{\"gridcolor\":\"white\",\"linecolor\":\"white\",\"ticks\":\"\"},\"caxis\":{\"gridcolor\":\"white\",\"linecolor\":\"white\",\"ticks\":\"\"}},\"coloraxis\":{\"colorbar\":{\"outlinewidth\":0,\"ticks\":\"\"}},\"colorscale\":{\"sequential\":[[0.0,\"#0d0887\"],[0.1111111111111111,\"#46039f\"],[0.2222222222222222,\"#7201a8\"],[0.3333333333333333,\"#9c179e\"],[0.4444444444444444,\"#bd3786\"],[0.5555555555555556,\"#d8576b\"],[0.6666666666666666,\"#ed7953\"],[0.7777777777777778,\"#fb9f3a\"],[0.8888888888888888,\"#fdca26\"],[1.0,\"#f0f921\"]],\"sequentialminus\":[[0.0,\"#0d0887\"],[0.1111111111111111,\"#46039f\"],[0.2222222222222222,\"#7201a8\"],[0.3333333333333333,\"#9c179e\"],[0.4444444444444444,\"#bd3786\"],[0.5555555555555556,\"#d8576b\"],[0.6666666666666666,\"#ed7953\"],[0.7777777777777778,\"#fb9f3a\"],[0.8888888888888888,\"#fdca26\"],[1.0,\"#f0f921\"]],\"diverging\":[[0,\"#8e0152\"],[0.1,\"#c51b7d\"],[0.2,\"#de77ae\"],[0.3,\"#f1b6da\"],[0.4,\"#fde0ef\"],[0.5,\"#f7f7f7\"],[0.6,\"#e6f5d0\"],[0.7,\"#b8e186\"],[0.8,\"#7fbc41\"],[0.9,\"#4d9221\"],[1,\"#276419\"]]},\"xaxis\":{\"gridcolor\":\"white\",\"linecolor\":\"white\",\"ticks\":\"\",\"title\":{\"standoff\":15},\"zerolinecolor\":\"white\",\"automargin\":true,\"zerolinewidth\":2},\"yaxis\":{\"gridcolor\":\"white\",\"linecolor\":\"white\",\"ticks\":\"\",\"title\":{\"standoff\":15},\"zerolinecolor\":\"white\",\"automargin\":true,\"zerolinewidth\":2},\"scene\":{\"xaxis\":{\"backgroundcolor\":\"#E5ECF6\",\"gridcolor\":\"white\",\"linecolor\":\"white\",\"showbackground\":true,\"ticks\":\"\",\"zerolinecolor\":\"white\",\"gridwidth\":2},\"yaxis\":{\"backgroundcolor\":\"#E5ECF6\",\"gridcolor\":\"white\",\"linecolor\":\"white\",\"showbackground\":true,\"ticks\":\"\",\"zerolinecolor\":\"white\",\"gridwidth\":2},\"zaxis\":{\"backgroundcolor\":\"#E5ECF6\",\"gridcolor\":\"white\",\"linecolor\":\"white\",\"showbackground\":true,\"ticks\":\"\",\"zerolinecolor\":\"white\",\"gridwidth\":2}},\"shapedefaults\":{\"line\":{\"color\":\"#2a3f5f\"}},\"annotationdefaults\":{\"arrowcolor\":\"#2a3f5f\",\"arrowhead\":0,\"arrowwidth\":1},\"geo\":{\"bgcolor\":\"white\",\"landcolor\":\"#E5ECF6\",\"subunitcolor\":\"white\",\"showland\":true,\"showlakes\":true,\"lakecolor\":\"white\"},\"title\":{\"x\":0.05},\"mapbox\":{\"style\":\"light\"}}},\"xaxis\":{\"anchor\":\"y\",\"domain\":[0.0,1.0],\"title\":{\"text\":\"Secure Internet Servers per 1M People (2022)\"}},\"yaxis\":{\"anchor\":\"x\",\"domain\":[0.0,1.0],\"title\":{\"text\":\"FDI as % of GDP (2022)\"}},\"legend\":{\"tracegroupgap\":0},\"title\":{\"text\":\"Interactive Relationship Between Internet Infrastructure and FDI in Latin America\"}},                        {\"responsive\": true}                    ).then(function(){\n",
              "                            \n",
              "var gd = document.getElementById('84f4746d-6198-4f8d-886e-51a4e7788844');\n",
              "var x = new MutationObserver(function (mutations, observer) {{\n",
              "        var display = window.getComputedStyle(gd).display;\n",
              "        if (!display || display === 'none') {{\n",
              "            console.log([gd, 'removed!']);\n",
              "            Plotly.purge(gd);\n",
              "            observer.disconnect();\n",
              "        }}\n",
              "}});\n",
              "\n",
              "// Listen for the removal of the full notebook cells\n",
              "var notebookContainer = gd.closest('#notebook-container');\n",
              "if (notebookContainer) {{\n",
              "    x.observe(notebookContainer, {childList: true});\n",
              "}}\n",
              "\n",
              "// Listen for the clearing of the current output cell\n",
              "var outputEl = gd.closest('.output');\n",
              "if (outputEl) {{\n",
              "    x.observe(outputEl, {childList: true});\n",
              "}}\n",
              "\n",
              "                        })                };                            </script>        </div>\n",
              "</body>\n",
              "</html>"
            ]
          },
          "metadata": {}
        }
      ]
    },
    {
      "cell_type": "markdown",
      "source": [
        "Unlike the global model (which showed no correlation at all), the Latin America model suggests a possible relationship between internet infrastructure and FDI."
      ],
      "metadata": {
        "id": "jtOIUaHbPjpw"
      }
    },
    {
      "cell_type": "code",
      "source": [
        "# Compute Pearson correlation for Latin America\n",
        "correlation_latam, p_value_latam = stats.pearsonr(\n",
        "    latin_america_df['Secure Internet Servers per 1M people (2022)'],\n",
        "    latin_america_df['FDI as % of GDP (2022)']\n",
        ")\n",
        "\n",
        "print(f\"Pearson correlation coefficient: {correlation_latam:.4f}\")\n",
        "print(f\"P-value: {p_value_latam:.4f}\")"
      ],
      "metadata": {
        "colab": {
          "base_uri": "https://localhost:8080/"
        },
        "id": "o2yv2w_JOdd-",
        "outputId": "a0f17f2a-d8c7-49b7-c89e-62d99c20ef8e"
      },
      "execution_count": null,
      "outputs": [
        {
          "output_type": "stream",
          "name": "stdout",
          "text": [
            "Pearson correlation coefficient: 0.3960\n",
            "P-value: 0.1038\n"
          ]
        }
      ]
    },
    {
      "cell_type": "markdown",
      "source": [
        "Pearson correlation coefficient: 0.396 → Moderate positive correlation (stronger than the global result).\n",
        "\n",
        "P-value: 0.104 → Not statistically significant (p > 0.05), meaning we can't confirm this correlation with high confidence. This is due to a small sample size of 18 countries."
      ],
      "metadata": {
        "id": "lkC46fyzQtI0"
      }
    },
    {
      "cell_type": "markdown",
      "source": [
        "## Conclusion\n",
        "\n",
        "The study first set off to test if internet infrastructure is a strong determinant of FDI.\n",
        "\n",
        "It is found that this relationship isn't true on a global scale as other elements like political stability, market size, and investment policies likely play a larger role in attracting foreign investments.\n",
        "\n",
        "This might also be that some countries have more diverse sources of GDP and a larger economy, suggesting that digital readiness is not a key driver of investment in developed countries.\n",
        "\n",
        "In contrast, for developing economies, better internet infrastructure could be a competitive advantage in attracting foreign investors, as digital accessibility may be a key consideration in emerging markets.\n"
      ],
      "metadata": {
        "id": "lyW0fa8ILO_m"
      }
    }
  ]
}